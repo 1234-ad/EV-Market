
{
 "cells": [
  {
   "cell_type": "code",
   "execution_count": null,
   "metadata": {},
   "outputs": [],
   "source": [
    "import pandas as pd\n",
    "from sklearn.cluster import KMeans\n",
    "import matplotlib.pyplot as plt\n",
    "\n",
    "vahan = pd.read_csv('vahan_ev_data_sample.csv')\n",
    "X = vahan[['Units_Registered']]\n",
    "\n",
    "kmeans = KMeans(n_clusters=2, random_state=42).fit(X)\n",
    "vahan['Cluster'] = kmeans.labels_\n",
    "print(vahan)\n",
    "\n",
    "plt.scatter(X, [0]*len(X), c=kmeans.labels_)\n",
    "plt.xlabel('Units Registered')\n",
    "plt.title('Clustering EV Registrations')\n",
    "plt.show()"
   ]
  }
 ],
 "metadata": {
  "kernelspec": {
   "display_name": "Python 3",
   "language": "python",
   "name": "python3"
  },
  "language_info": {
   "name": "python",
   "version": "3.8"
  }
 },
 "nbformat": 4,
 "nbformat_minor": 2
}
